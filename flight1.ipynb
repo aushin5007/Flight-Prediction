{
  "nbformat": 4,
  "nbformat_minor": 0,
  "metadata": {
    "colab": {
      "provenance": [],
      "authorship_tag": "ABX9TyNCQVnt1WeF3irbieaQhfq2"
    },
    "kernelspec": {
      "name": "python3",
      "display_name": "Python 3"
    },
    "language_info": {
      "name": "python"
    }
  },
  "cells": [
    {
      "cell_type": "code",
      "execution_count": null,
      "metadata": {
        "id": "JzzgiCVNKS0j"
      },
      "outputs": [],
      "source": [
        "import numpy as np\n",
        "import pandas as pd\n",
        "\n",
        "# Define the number of samples\n",
        "num_samples = 1000\n",
        "\n",
        "# Generate synthetic data for features (temperature, precipitation, wind speed)\n",
        "temperature = np.random.randint(10, 35, num_samples)  # Temperature in Celsius\n",
        "precipitation = np.random.rand(num_samples) * 10  # Precipitation in mm\n",
        "wind_speed = np.random.randint(5, 25, num_samples)  # Wind speed in km/h\n",
        "\n",
        "# Generate synthetic data for the target variable (delayed or not delayed)\n",
        "delay_prob = np.random.rand(num_samples)  # Probability of delay\n",
        "delayed = (delay_prob > 0.5).astype(int)  # 1 if delayed, 0 if not delayed\n",
        "\n",
        "# Create a DataFrame to store the synthetic dataset\n",
        "flight_data = pd.DataFrame({\n",
        "    'Temperature (°C)': temperature,\n",
        "    'Precipitation (mm)': precipitation,\n",
        "    'Wind Speed (km/h)': wind_speed,\n",
        "    'Delayed': delayed\n",
        "})\n",
        "\n",
        "# Save the dataset to a CSV file\n",
        "flight_data.to_csv('flight_data.csv', index=False)\n"
      ]
    },
    {
      "cell_type": "code",
      "source": [
        "import numpy as np\n",
        "import pandas as pd\n",
        "from sklearn.model_selection import train_test_split\n",
        "from sklearn.preprocessing import StandardScaler\n",
        "from sklearn.neighbors import KNeighborsClassifier\n",
        "from sklearn.metrics import accuracy_score\n",
        "\n",
        "# Load data from CSV file\n",
        "df = pd.read_csv('flight_data.csv')\n",
        "\n",
        "# Extract features and target variable\n",
        "X = df[['temperature', 'precipitation', 'wind_speed']].values\n",
        "y = df['delay'].values\n",
        "\n",
        "# Splitting the dataset into training and testing sets\n",
        "X_train, X_test, y_train, y_test = train_test_split(X, y, test_size=0.2, random_state=42)\n",
        "\n",
        "# Feature scaling\n",
        "scaler = StandardScaler()\n",
        "X_train_scaled = scaler.fit_transform(X_train)\n",
        "X_test_scaled = scaler.transform(X_test)\n",
        "\n",
        "# Training the kNN model\n",
        "k = 3  # Number of neighbors\n",
        "knn_classifier = KNeighborsClassifier(n_neighbors=k)\n",
        "knn_classifier.fit(X_train_scaled, y_train)\n",
        "\n",
        "# Predicting flight delays\n",
        "y_pred = knn_classifier.predict(X_test_scaled)\n",
        "\n",
        "# Evaluating the model\n",
        "accuracy = accuracy_score(y_test, y_pred)\n",
        "print(\"Accuracy:\", accuracy)\n"
      ],
      "metadata": {
        "colab": {
          "base_uri": "https://localhost:8080/"
        },
        "id": "mo_2-V6MK0kk",
        "outputId": "e74cd6f6-c00d-461b-8b29-c0180df961f9"
      },
      "execution_count": null,
      "outputs": [
        {
          "output_type": "stream",
          "name": "stdout",
          "text": [
            "Accuracy: 0.545\n"
          ]
        }
      ]
    },
    {
      "cell_type": "code",
      "source": [
        "import pandas as pd\n",
        "from sklearn.model_selection import train_test_split\n",
        "from sklearn.preprocessing import StandardScaler\n",
        "from sklearn.svm import SVC\n",
        "from sklearn.metrics import accuracy_score\n",
        "\n",
        "# Load data from CSV file\n",
        "df = pd.read_csv('flight_data.csv')\n",
        "\n",
        "# Extract features and target variable\n",
        "X = df[['temperature', 'precipitation', 'wind_speed']].values\n",
        "y = df['delay'].values\n",
        "\n",
        "# Splitting the dataset into training and testing sets\n",
        "X_train, X_test, y_train, y_test = train_test_split(X, y, test_size=0.2, random_state=42)\n",
        "\n",
        "# Feature scaling\n",
        "scaler = StandardScaler()\n",
        "X_train_scaled = scaler.fit_transform(X_train)\n",
        "X_test_scaled = scaler.transform(X_test)\n",
        "\n",
        "# Training the SVM model\n",
        "svm_classifier = SVC(kernel='linear')  # Linear kernel\n",
        "svm_classifier.fit(X_train_scaled, y_train)\n",
        "\n",
        "# Predicting flight delays\n",
        "y_pred = svm_classifier.predict(X_test_scaled)\n",
        "\n",
        "# Evaluating the model\n",
        "accuracy = accuracy_score(y_test, y_pred)\n",
        "print(\"Accuracy:\", accuracy)\n"
      ],
      "metadata": {
        "colab": {
          "base_uri": "https://localhost:8080/"
        },
        "id": "NrtOgRJ8MPCc",
        "outputId": "82680b73-588c-418c-ddcb-8ce534762e6b"
      },
      "execution_count": null,
      "outputs": [
        {
          "output_type": "stream",
          "name": "stdout",
          "text": [
            "Accuracy: 0.47\n"
          ]
        }
      ]
    },
    {
      "cell_type": "code",
      "source": [
        "import numpy as np\n",
        "import pandas as pd\n",
        "from sklearn.preprocessing import MinMaxScaler\n",
        "from keras.models import Sequential\n",
        "from keras.layers import LSTM, Dense\n",
        "import matplotlib.pyplot as plt\n",
        "\n",
        "# Load data from CSV file\n",
        "df = pd.read_csv('flight_data.csv')\n",
        "\n",
        "# Extract features and target variable\n",
        "X = df[['temperature', 'precipitation', 'wind_speed']].values\n",
        "y = df['delay'].values\n",
        "\n",
        "# Normalize features\n",
        "scaler = MinMaxScaler()\n",
        "X_scaled = scaler.fit_transform(X)\n",
        "\n",
        "# Split data into training and testing sets\n",
        "split_ratio = 0.8\n",
        "split_index = int(len(X_scaled) * split_ratio)\n",
        "X_train, X_test = X_scaled[:split_index], X_scaled[split_index:]\n",
        "y_train, y_test = y[:split_index], y[split_index:]\n",
        "\n",
        "# Reshape input data for LSTM\n",
        "X_train = X_train.reshape((X_train.shape[0], 1, X_train.shape[1]))\n",
        "X_test = X_test.reshape((X_test.shape[0], 1, X_test.shape[1]))\n",
        "\n",
        "# Define LSTM model architecture\n",
        "model = Sequential()\n",
        "model.add(LSTM(50, input_shape=(X_train.shape[1], X_train.shape[2])))\n",
        "model.add(Dense(1, activation='sigmoid'))\n",
        "model.compile(optimizer='adam', loss='binary_crossentropy', metrics=['accuracy'])\n",
        "\n",
        "# Train the LSTM model\n",
        "history = model.fit(X_train, y_train, epochs=50, batch_size=32, validation_data=(X_test, y_test), verbose=1)\n",
        "\n",
        "# Evaluate the model\n",
        "_, train_accuracy = model.evaluate(X_train, y_train, verbose=0)\n",
        "_, test_accuracy = model.evaluate(X_test, y_test, verbose=0)\n",
        "print('Train Accuracy: %.2f%%, Test Accuracy: %.2f%%' % (train_accuracy * 100, test_accuracy * 100))\n",
        "\n",
        "# Plot training history\n",
        "plt.plot(history.history['accuracy'], label='Train Accuracy')\n",
        "plt.plot(history.history['val_accuracy'], label='Test Accuracy')\n",
        "plt.xlabel('Epochs')\n",
        "plt.ylabel('Accuracy')\n",
        "plt.legend()\n",
        "plt.show()\n",
        "\n",
        "# Make predictions\n",
        "predictions = model.predict(X_test)\n"
      ],
      "metadata": {
        "colab": {
          "base_uri": "https://localhost:8080/",
          "height": 1000
        },
        "id": "7MmgqoXpMRj5",
        "outputId": "87ab5dff-07c3-4582-fc55-2f0b3cf6485b"
      },
      "execution_count": null,
      "outputs": [
        {
          "output_type": "stream",
          "name": "stdout",
          "text": [
            "Epoch 1/50\n",
            "25/25 [==============================] - 6s 81ms/step - loss: 0.6935 - accuracy: 0.4900 - val_loss: 0.6936 - val_accuracy: 0.4800\n",
            "Epoch 2/50\n",
            "25/25 [==============================] - 0s 3ms/step - loss: 0.6929 - accuracy: 0.5150 - val_loss: 0.6943 - val_accuracy: 0.4800\n",
            "Epoch 3/50\n",
            "25/25 [==============================] - 0s 4ms/step - loss: 0.6927 - accuracy: 0.5150 - val_loss: 0.6948 - val_accuracy: 0.4800\n",
            "Epoch 4/50\n",
            "25/25 [==============================] - 0s 4ms/step - loss: 0.6926 - accuracy: 0.5150 - val_loss: 0.6950 - val_accuracy: 0.4800\n",
            "Epoch 5/50\n",
            "25/25 [==============================] - 0s 4ms/step - loss: 0.6926 - accuracy: 0.5150 - val_loss: 0.6953 - val_accuracy: 0.4800\n",
            "Epoch 6/50\n",
            "25/25 [==============================] - 0s 4ms/step - loss: 0.6925 - accuracy: 0.5150 - val_loss: 0.6963 - val_accuracy: 0.4800\n",
            "Epoch 7/50\n",
            "25/25 [==============================] - 0s 4ms/step - loss: 0.6924 - accuracy: 0.5150 - val_loss: 0.6962 - val_accuracy: 0.4800\n",
            "Epoch 8/50\n",
            "25/25 [==============================] - 0s 4ms/step - loss: 0.6924 - accuracy: 0.5150 - val_loss: 0.6965 - val_accuracy: 0.4800\n",
            "Epoch 9/50\n",
            "25/25 [==============================] - 0s 3ms/step - loss: 0.6923 - accuracy: 0.5163 - val_loss: 0.6963 - val_accuracy: 0.4850\n",
            "Epoch 10/50\n",
            "25/25 [==============================] - 0s 5ms/step - loss: 0.6924 - accuracy: 0.5175 - val_loss: 0.6968 - val_accuracy: 0.4850\n",
            "Epoch 11/50\n",
            "25/25 [==============================] - 0s 4ms/step - loss: 0.6926 - accuracy: 0.5213 - val_loss: 0.6974 - val_accuracy: 0.4750\n",
            "Epoch 12/50\n",
            "25/25 [==============================] - 0s 4ms/step - loss: 0.6924 - accuracy: 0.4888 - val_loss: 0.6967 - val_accuracy: 0.4700\n",
            "Epoch 13/50\n",
            "25/25 [==============================] - 0s 4ms/step - loss: 0.6922 - accuracy: 0.5138 - val_loss: 0.6969 - val_accuracy: 0.4700\n",
            "Epoch 14/50\n",
            "25/25 [==============================] - 0s 3ms/step - loss: 0.6920 - accuracy: 0.5150 - val_loss: 0.6973 - val_accuracy: 0.4800\n",
            "Epoch 15/50\n",
            "25/25 [==============================] - 0s 4ms/step - loss: 0.6920 - accuracy: 0.5138 - val_loss: 0.6975 - val_accuracy: 0.4700\n",
            "Epoch 16/50\n",
            "25/25 [==============================] - 0s 4ms/step - loss: 0.6924 - accuracy: 0.5213 - val_loss: 0.6984 - val_accuracy: 0.4900\n",
            "Epoch 17/50\n",
            "25/25 [==============================] - 0s 4ms/step - loss: 0.6918 - accuracy: 0.5188 - val_loss: 0.6977 - val_accuracy: 0.4550\n",
            "Epoch 18/50\n",
            "25/25 [==============================] - 0s 4ms/step - loss: 0.6920 - accuracy: 0.5075 - val_loss: 0.6978 - val_accuracy: 0.4650\n",
            "Epoch 19/50\n",
            "25/25 [==============================] - 0s 4ms/step - loss: 0.6918 - accuracy: 0.5088 - val_loss: 0.6980 - val_accuracy: 0.4650\n",
            "Epoch 20/50\n",
            "25/25 [==============================] - 0s 5ms/step - loss: 0.6918 - accuracy: 0.5125 - val_loss: 0.6982 - val_accuracy: 0.4500\n",
            "Epoch 21/50\n",
            "25/25 [==============================] - 0s 4ms/step - loss: 0.6922 - accuracy: 0.5025 - val_loss: 0.6990 - val_accuracy: 0.4700\n",
            "Epoch 22/50\n",
            "25/25 [==============================] - 0s 4ms/step - loss: 0.6918 - accuracy: 0.5100 - val_loss: 0.6985 - val_accuracy: 0.4500\n",
            "Epoch 23/50\n",
            "25/25 [==============================] - 0s 4ms/step - loss: 0.6917 - accuracy: 0.5200 - val_loss: 0.6987 - val_accuracy: 0.4400\n",
            "Epoch 24/50\n",
            "25/25 [==============================] - 0s 4ms/step - loss: 0.6917 - accuracy: 0.5163 - val_loss: 0.6987 - val_accuracy: 0.4400\n",
            "Epoch 25/50\n",
            "25/25 [==============================] - 0s 4ms/step - loss: 0.6917 - accuracy: 0.5138 - val_loss: 0.6993 - val_accuracy: 0.4550\n",
            "Epoch 26/50\n",
            "25/25 [==============================] - 0s 4ms/step - loss: 0.6919 - accuracy: 0.5225 - val_loss: 0.6987 - val_accuracy: 0.4400\n",
            "Epoch 27/50\n",
            "25/25 [==============================] - 0s 4ms/step - loss: 0.6917 - accuracy: 0.5238 - val_loss: 0.6990 - val_accuracy: 0.4350\n",
            "Epoch 28/50\n",
            "25/25 [==============================] - 0s 4ms/step - loss: 0.6918 - accuracy: 0.5175 - val_loss: 0.6997 - val_accuracy: 0.4550\n",
            "Epoch 29/50\n",
            "25/25 [==============================] - 0s 4ms/step - loss: 0.6916 - accuracy: 0.5213 - val_loss: 0.7000 - val_accuracy: 0.4550\n",
            "Epoch 30/50\n",
            "25/25 [==============================] - 0s 4ms/step - loss: 0.6917 - accuracy: 0.5175 - val_loss: 0.7004 - val_accuracy: 0.4600\n",
            "Epoch 31/50\n",
            "25/25 [==============================] - 0s 4ms/step - loss: 0.6918 - accuracy: 0.5163 - val_loss: 0.7007 - val_accuracy: 0.4600\n",
            "Epoch 32/50\n",
            "25/25 [==============================] - 0s 4ms/step - loss: 0.6917 - accuracy: 0.5163 - val_loss: 0.7004 - val_accuracy: 0.4400\n",
            "Epoch 33/50\n",
            "25/25 [==============================] - 0s 4ms/step - loss: 0.6914 - accuracy: 0.5238 - val_loss: 0.6996 - val_accuracy: 0.4350\n",
            "Epoch 34/50\n",
            "25/25 [==============================] - 0s 4ms/step - loss: 0.6917 - accuracy: 0.5263 - val_loss: 0.6999 - val_accuracy: 0.4400\n",
            "Epoch 35/50\n",
            "25/25 [==============================] - 0s 4ms/step - loss: 0.6916 - accuracy: 0.5225 - val_loss: 0.6999 - val_accuracy: 0.4300\n",
            "Epoch 36/50\n",
            "25/25 [==============================] - 0s 4ms/step - loss: 0.6915 - accuracy: 0.5275 - val_loss: 0.7003 - val_accuracy: 0.4400\n",
            "Epoch 37/50\n",
            "25/25 [==============================] - 0s 4ms/step - loss: 0.6916 - accuracy: 0.5250 - val_loss: 0.7006 - val_accuracy: 0.4300\n",
            "Epoch 38/50\n",
            "25/25 [==============================] - 0s 4ms/step - loss: 0.6914 - accuracy: 0.5225 - val_loss: 0.7009 - val_accuracy: 0.4400\n",
            "Epoch 39/50\n",
            "25/25 [==============================] - 0s 5ms/step - loss: 0.6915 - accuracy: 0.5300 - val_loss: 0.7011 - val_accuracy: 0.4350\n",
            "Epoch 40/50\n",
            "25/25 [==============================] - 0s 4ms/step - loss: 0.6916 - accuracy: 0.5238 - val_loss: 0.7007 - val_accuracy: 0.4350\n",
            "Epoch 41/50\n",
            "25/25 [==============================] - 0s 4ms/step - loss: 0.6914 - accuracy: 0.5213 - val_loss: 0.7011 - val_accuracy: 0.4350\n",
            "Epoch 42/50\n",
            "25/25 [==============================] - 0s 4ms/step - loss: 0.6917 - accuracy: 0.5263 - val_loss: 0.7008 - val_accuracy: 0.4400\n",
            "Epoch 43/50\n",
            "25/25 [==============================] - 0s 4ms/step - loss: 0.6916 - accuracy: 0.5238 - val_loss: 0.7009 - val_accuracy: 0.4300\n",
            "Epoch 44/50\n",
            "25/25 [==============================] - 0s 4ms/step - loss: 0.6916 - accuracy: 0.5275 - val_loss: 0.7015 - val_accuracy: 0.4350\n",
            "Epoch 45/50\n",
            "25/25 [==============================] - 0s 4ms/step - loss: 0.6914 - accuracy: 0.5225 - val_loss: 0.7018 - val_accuracy: 0.4300\n",
            "Epoch 46/50\n",
            "25/25 [==============================] - 0s 4ms/step - loss: 0.6914 - accuracy: 0.5250 - val_loss: 0.7011 - val_accuracy: 0.4400\n",
            "Epoch 47/50\n",
            "25/25 [==============================] - 0s 4ms/step - loss: 0.6914 - accuracy: 0.5225 - val_loss: 0.7014 - val_accuracy: 0.4400\n",
            "Epoch 48/50\n",
            "25/25 [==============================] - 0s 5ms/step - loss: 0.6915 - accuracy: 0.5163 - val_loss: 0.7019 - val_accuracy: 0.4300\n",
            "Epoch 49/50\n",
            "25/25 [==============================] - 0s 4ms/step - loss: 0.6916 - accuracy: 0.5200 - val_loss: 0.7012 - val_accuracy: 0.4400\n",
            "Epoch 50/50\n",
            "25/25 [==============================] - 0s 4ms/step - loss: 0.6915 - accuracy: 0.5175 - val_loss: 0.7015 - val_accuracy: 0.4400\n",
            "Train Accuracy: 52.00%, Test Accuracy: 44.00%\n"
          ]
        },
        {
          "output_type": "display_data",
          "data": {
            "text/plain": [
              "<Figure size 640x480 with 1 Axes>"
            ],
            "image/png": "[encoded data removed]"
          },
          "metadata": {}
        },
        {
          "output_type": "stream",
          "name": "stdout",
          "text": [
            "7/7 [==============================] - 0s 2ms/step\n"
          ]
        }
      ]
    }
  ]
}